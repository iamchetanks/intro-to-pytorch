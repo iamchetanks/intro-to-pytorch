{
 "cells": [
  {
   "cell_type": "markdown",
   "metadata": {},
   "source": [
    "# Neural networks with PyTorch\n",
    "\n",
    "Deep learning networks tend to be massive with dozens or hundreds of layers, that's where the term \"deep\" comes from. You can build one of these deep networks using only weight matrices as we did in the previous notebook, but in general it's very cumbersome and difficult to implement. PyTorch has a nice module `nn` that provides a nice way to efficiently build large neural networks."
   ]
  },
  {
   "cell_type": "code",
   "execution_count": 2,
   "metadata": {},
   "outputs": [],
   "source": [
    "# Import necessary packages\n",
    "\n",
    "%matplotlib inline\n",
    "%config InlineBackend.figure_format = 'retina'\n",
    "\n",
    "import numpy as np\n",
    "import torch\n",
    "\n",
    "import helper\n",
    "\n",
    "import matplotlib.pyplot as plt"
   ]
  },
  {
   "cell_type": "markdown",
   "metadata": {},
   "source": [
    "\n",
    "Now we're going to build a larger network that can solve a (formerly) difficult problem, identifying text in an image. Here we'll use the MNIST dataset which consists of greyscale handwritten digits. Each image is 28x28 pixels, you can see a sample below\n",
    "\n",
    "<img src='assets/mnist.png'>\n",
    "\n",
    "Our goal is to build a neural network that can take one of these images and predict the digit in the image.\n",
    "\n",
    "First up, we need to get our dataset. This is provided through the `torchvision` package. The code below will download the MNIST dataset, then create training and test datasets for us. Don't worry too much about the details here, you'll learn more about this later."
   ]
  },
  {
   "cell_type": "code",
   "execution_count": 3,
   "metadata": {},
   "outputs": [
    {
     "name": "stderr",
     "output_type": "stream",
     "text": [
      "\r",
      "0it [00:00, ?it/s]"
     ]
    },
    {
     "name": "stdout",
     "output_type": "stream",
     "text": [
      "Downloading http://yann.lecun.com/exdb/mnist/train-images-idx3-ubyte.gz to /Users/katigac/.pytorch/MNIST_data/MNIST/raw/train-images-idx3-ubyte.gz\n"
     ]
    },
    {
     "name": "stderr",
     "output_type": "stream",
     "text": [
      "9920512it [00:02, 4904979.58it/s]                             \n"
     ]
    },
    {
     "name": "stdout",
     "output_type": "stream",
     "text": [
      "Extracting /Users/katigac/.pytorch/MNIST_data/MNIST/raw/train-images-idx3-ubyte.gz\n"
     ]
    },
    {
     "name": "stderr",
     "output_type": "stream",
     "text": [
      "  0%|          | 0/28881 [00:00<?, ?it/s]"
     ]
    },
    {
     "name": "stdout",
     "output_type": "stream",
     "text": [
      "Downloading http://yann.lecun.com/exdb/mnist/train-labels-idx1-ubyte.gz to /Users/katigac/.pytorch/MNIST_data/MNIST/raw/train-labels-idx1-ubyte.gz\n"
     ]
    },
    {
     "name": "stderr",
     "output_type": "stream",
     "text": [
      "32768it [00:00, 125288.13it/s]           \n",
      "  0%|          | 0/1648877 [00:00<?, ?it/s]"
     ]
    },
    {
     "name": "stdout",
     "output_type": "stream",
     "text": [
      "Extracting /Users/katigac/.pytorch/MNIST_data/MNIST/raw/train-labels-idx1-ubyte.gz\n",
      "Downloading http://yann.lecun.com/exdb/mnist/t10k-images-idx3-ubyte.gz to /Users/katigac/.pytorch/MNIST_data/MNIST/raw/t10k-images-idx3-ubyte.gz\n"
     ]
    },
    {
     "name": "stderr",
     "output_type": "stream",
     "text": [
      "1654784it [00:00, 1740587.85it/s]                            \n",
      "0it [00:00, ?it/s]"
     ]
    },
    {
     "name": "stdout",
     "output_type": "stream",
     "text": [
      "Extracting /Users/katigac/.pytorch/MNIST_data/MNIST/raw/t10k-images-idx3-ubyte.gz\n",
      "Downloading http://yann.lecun.com/exdb/mnist/t10k-labels-idx1-ubyte.gz to /Users/katigac/.pytorch/MNIST_data/MNIST/raw/t10k-labels-idx1-ubyte.gz\n"
     ]
    },
    {
     "name": "stderr",
     "output_type": "stream",
     "text": [
      "8192it [00:00, 49419.70it/s]            "
     ]
    },
    {
     "name": "stdout",
     "output_type": "stream",
     "text": [
      "Extracting /Users/katigac/.pytorch/MNIST_data/MNIST/raw/t10k-labels-idx1-ubyte.gz\n",
      "Processing...\n",
      "Done!\n"
     ]
    },
    {
     "name": "stderr",
     "output_type": "stream",
     "text": [
      "\n"
     ]
    }
   ],
   "source": [
    "### Run this cell\n",
    "\n",
    "from torchvision import datasets, transforms\n",
    "\n",
    "# Define a transform to normalize the data\n",
    "transform = transforms.Compose([transforms.ToTensor(),\n",
    "                              transforms.Normalize((0.5,), (0.5,)),\n",
    "                              ])\n",
    "\n",
    "# Download and load the training data\n",
    "trainset = datasets.MNIST('~/.pytorch/MNIST_data/', download=True, train=True, transform=transform)\n",
    "trainloader = torch.utils.data.DataLoader(trainset, batch_size=64, shuffle=True)"
   ]
  },
  {
   "cell_type": "markdown",
   "metadata": {},
   "source": [
    "We have the training data loaded into `trainloader` and we make that an iterator with `iter(trainloader)`. Later, we'll use this to loop through the dataset for training, like\n",
    "\n",
    "```python\n",
    "for image, label in trainloader:\n",
    "    ## do things with images and labels\n",
    "```\n",
    "\n",
    "You'll notice I created the `trainloader` with a batch size of 64, and `shuffle=True`. The batch size is the number of images we get in one iteration from the data loader and pass through our network, often called a *batch*. And `shuffle=True` tells it to shuffle the dataset every time we start going through the data loader again. But here I'm just grabbing the first batch so we can check out the data. We can see below that `images` is just a tensor with size `(64, 1, 28, 28)`. So, 64 images per batch, 1 color channel, and 28x28 images."
   ]
  },
  {
   "cell_type": "code",
   "execution_count": 4,
   "metadata": {},
   "outputs": [
    {
     "name": "stdout",
     "output_type": "stream",
     "text": [
      "<class 'torch.Tensor'>\n",
      "torch.Size([64, 1, 28, 28])\n",
      "torch.Size([64])\n"
     ]
    }
   ],
   "source": [
    "dataiter = iter(trainloader)\n",
    "images, labels = dataiter.next()\n",
    "print(type(images))\n",
    "print(images.shape)\n",
    "print(labels.shape)"
   ]
  },
  {
   "cell_type": "markdown",
   "metadata": {},
   "source": [
    "This is what one of the images looks like. "
   ]
  },
  {
   "cell_type": "code",
   "execution_count": 5,
   "metadata": {},
   "outputs": [
    {
     "data": {
      "image/png": "[encoded data removed]",
      "text/plain": [
       "<Figure size 432x288 with 1 Axes>"
      ]
     },
     "metadata": {
      "image/png": {
       "height": 250,
       "width": 253
      },
      "needs_background": "light"
     },
     "output_type": "display_data"
    }
   ],
   "source": [
    "plt.imshow(images[1].numpy().squeeze(), cmap='Greys_r');"
   ]
  },
  {
   "cell_type": "markdown",
   "metadata": {},
   "source": [
    "First, let's try to build a simple network for this dataset using weight matrices and matrix multiplications. Then, we'll see how to do it using PyTorch's `nn` module which provides a much more convenient and powerful method for defining network architectures.\n",
    "\n",
    "The networks you've seen so far are called *fully-connected* or *dense* networks. Each unit in one layer is connected to each unit in the next layer. In fully-connected networks, the input to each layer must be a one-dimensional vector (which can be stacked into a 2D tensor as a batch of multiple examples). However, our images are 28x28 2D tensors, so we need to convert them into 1D vectors. Thinking about sizes, we need to convert the batch of images with shape `(64, 1, 28, 28)` to a have a shape of `(64, 784)`, 784 is 28 times 28. This is typically called *flattening*, we flattened the 2D images into 1D vectors.\n",
    "\n",
    "Previously you built a network with one output unit. Here we need 10 output units, one for each digit. We want our network to predict the digit shown in an image, so what we'll do is calculate probabilities that the image is of any one digit or class. This ends up being a discrete probability distribution over the classes (digits) that tells us the most likely class for the image. That means we need 10 output units for the 10 classes (digits). We'll see how to convert the network output into a probability distribution next.\n",
    "\n",
    "> **Exercise:** Flatten the batch of images `images`. Then build a multi-layer network with 784 input units, 256 hidden units, and 10 output units using random tensors for the weights and biases. For now, use a sigmoid activation for the hidden layer. Leave the output layer without an activation, we'll add one that gives us a probability distribution next."
   ]
  },
  {
   "cell_type": "code",
   "execution_count": 38,
   "metadata": {},
   "outputs": [
    {
     "name": "stdout",
     "output_type": "stream",
     "text": [
      "images flatten shape torch.Size([64, 784])\n",
      "out shape torch.Size([64, 10])\n",
      "tensor([[-1.8648e+01, -1.5477e+01,  9.6638e+00, -3.0772e+00,  4.6724e+00,\n",
      "          9.1179e+00, -1.1696e+00, -2.8098e+00, -1.1424e+01,  3.4905e-02],\n",
      "        [-6.1802e+00, -9.4029e+00,  1.5516e+00,  5.2479e+00, -1.0106e+00,\n",
      "          8.8109e+00, -1.4168e+01, -8.6395e+00, -3.6680e-02,  1.5577e+00],\n",
      "        [-8.6740e+00, -6.3218e+00,  4.8790e+00,  1.9111e+00, -1.0915e+01,\n",
      "          9.0858e+00, -1.9409e+00,  4.2087e+00, -4.7999e+00, -3.6817e+00],\n",
      "        [-1.1272e+01, -9.8508e+00,  1.3159e+01, -9.7692e+00,  5.1671e+00,\n",
      "          5.6705e+00, -4.4052e+00, -5.4269e+00, -8.0257e+00,  2.2594e+00],\n",
      "        [-1.3731e+01, -6.8899e+00,  1.4211e+01,  3.8490e+00, -2.6404e+00,\n",
      "          8.9799e+00, -7.2925e+00, -1.2994e+01,  6.0464e+00, -4.4051e+00],\n",
      "        [-9.4547e+00, -2.7892e+00,  1.2323e+01, -4.2722e+00,  6.4349e+00,\n",
      "          6.6085e+00, -8.9023e-01, -3.5978e+00,  3.8625e-02,  1.6535e+00],\n",
      "        [-6.9332e+00,  4.3091e+00, -5.9346e+00,  1.8293e-01, -9.6404e+00,\n",
      "          6.1925e+00, -4.5042e+00,  2.3750e+00,  1.4060e+00, -2.3148e-01],\n",
      "        [-2.1368e+01, -2.0692e+01,  6.6284e+00,  3.2904e-01, -4.3780e+00,\n",
      "         -3.8548e+00, -6.2173e+00,  4.0573e+00,  3.7199e+00,  1.9077e+00],\n",
      "        [-1.1758e+01, -1.6183e+01,  1.8177e+01,  2.3294e+00,  7.2978e+00,\n",
      "          1.1315e+01, -7.1505e+00, -8.6538e+00,  3.3617e+00, -1.4113e+00],\n",
      "        [-1.8650e+01, -1.2817e+01,  3.6338e+00, -9.9315e-01,  1.2736e+01,\n",
      "          1.7343e+01, -1.4527e+01, -1.1110e+00, -1.6467e+00,  8.2288e+00],\n",
      "        [-1.4801e+01, -1.9439e+01,  1.9220e-01,  2.6455e+00, -6.6028e+00,\n",
      "          3.9171e+00, -1.4322e+01, -3.1145e+00, -4.5941e+00,  2.3755e+00],\n",
      "        [-6.2528e+00, -2.6501e+00,  4.8349e+00,  3.8802e+00, -7.6608e+00,\n",
      "          7.2320e+00, -7.4295e+00, -2.6212e+00, -4.3420e-01, -5.0403e+00],\n",
      "        [-1.5733e+01, -5.4688e+00,  2.9127e+00,  1.2271e+00, -5.6579e+00,\n",
      "         -1.7167e-01, -2.1564e-01,  4.3313e+00,  6.5309e+00, -4.6817e+00],\n",
      "        [-2.0899e+01,  2.3715e+00, -2.5555e+00, -1.6003e+00,  4.0901e+00,\n",
      "          1.8760e+01, -1.0626e+01, -1.1568e+01,  3.0525e+00, -3.0551e+00],\n",
      "        [-1.2116e+01, -1.5275e+01,  1.4276e+01,  3.6898e+00,  7.7523e+00,\n",
      "          1.6632e+01, -1.1871e+01, -5.9350e+00, -8.8826e+00, -4.8284e+00],\n",
      "        [-1.1442e+01, -4.9197e+00,  6.3556e+00,  6.1381e-01,  2.2335e+00,\n",
      "          4.0038e+00, -8.5248e+00, -1.5519e+00, -5.1633e+00, -2.9161e+00],\n",
      "        [-1.5394e+01, -5.7940e+00,  1.2921e+01,  2.5020e-01, -2.9115e+00,\n",
      "          1.0840e+01, -4.4942e+00, -4.3484e+00, -8.6260e+00,  1.2815e+00],\n",
      "        [-8.2532e+00, -1.1550e+01, -4.7479e-01, -5.5548e+00, -3.9591e+00,\n",
      "          1.0865e+01, -1.1195e+01,  1.9672e+00, -4.0084e+00,  8.4333e-01],\n",
      "        [-9.9168e+00, -4.6040e+00, -1.8436e+00, -2.5213e+00,  2.3450e+00,\n",
      "          1.4586e+01, -1.2990e+01,  1.5205e-02, -1.0716e+01,  2.4406e+00],\n",
      "        [-2.0793e+01, -3.6112e+00,  1.0253e+01, -4.6740e-02, -2.0676e+00,\n",
      "          8.1619e+00, -4.7080e+00,  6.1006e+00, -1.0142e+00, -1.0645e+00],\n",
      "        [-1.4490e+01, -1.7994e+01,  1.2838e+01,  4.7036e+00,  5.4933e+00,\n",
      "          1.1692e+01, -9.1122e+00, -3.5012e+00,  4.4648e+00, -3.0586e+00],\n",
      "        [-2.0418e+01, -1.7791e+01, -3.3892e-01,  1.0121e+00, -2.9268e+00,\n",
      "          2.4131e+00, -1.0858e+01,  9.2217e+00,  5.1327e+00,  3.8713e+00],\n",
      "        [-1.0750e+01, -9.9730e+00,  4.3891e+00, -8.5880e-01,  1.6679e+00,\n",
      "          1.1739e+01,  2.0887e+00,  2.3222e+00, -2.0833e+00, -1.4632e+00],\n",
      "        [-1.5072e+01, -5.6982e+00,  9.4857e+00,  5.4437e+00, -5.9604e-01,\n",
      "          8.9696e+00, -3.6104e+00, -3.3042e+00, -6.4995e+00, -6.8871e-01],\n",
      "        [-1.8450e+01, -7.7754e+00,  8.5394e+00, -7.0521e+00,  1.5492e+00,\n",
      "          4.7667e+00,  4.5394e+00, -1.4065e+00, -1.9865e+00, -1.0216e+00],\n",
      "        [-1.3090e+01, -1.0539e+01,  7.2911e+00,  3.4243e+00, -6.7224e-01,\n",
      "          5.1810e+00, -4.5659e+00,  5.5134e+00, -6.7408e+00, -4.3518e+00],\n",
      "        [-1.3216e+01, -8.7329e+00,  8.6857e+00, -6.5842e-01,  1.3588e+00,\n",
      "          5.3934e+00, -1.4425e+00, -6.0674e+00, -1.5393e+01, -2.6197e+00],\n",
      "        [-1.4773e+01, -7.5309e+00,  1.4190e+00,  2.3575e+00, -2.1572e+00,\n",
      "          8.8313e+00, -1.7174e+01, -2.5983e+00,  1.3227e+00,  7.9908e+00],\n",
      "        [-1.8106e+01, -1.6425e+01,  9.7113e+00,  2.2862e+00,  5.1037e+00,\n",
      "          5.8071e+00, -1.0386e+01,  8.0634e+00, -7.2230e+00, -5.3219e+00],\n",
      "        [-1.7177e+01, -1.7323e+01,  2.4818e+00, -3.1513e+00, -2.0568e-01,\n",
      "          3.7882e+00, -7.1196e+00,  3.2484e+00, -1.3804e+00,  3.9201e+00],\n",
      "        [-1.1254e+01, -1.4601e+01,  1.5145e+01,  7.8091e+00, -3.2153e+00,\n",
      "          2.4660e+00, -6.5478e+00, -4.8626e+00, -3.0351e+00, -3.4739e+00],\n",
      "        [-1.7817e+01, -8.0284e+00,  1.2079e+01, -6.3023e-01,  2.4866e+00,\n",
      "          1.0857e+01, -8.2825e+00,  4.0151e-01,  1.1474e+00,  1.0374e+01],\n",
      "        [-9.4018e+00, -1.2197e+01,  8.2836e+00,  4.5217e+00, -3.2492e+00,\n",
      "          3.3671e-01, -1.3089e+01,  1.3184e+00,  1.0586e+00,  3.9942e+00],\n",
      "        [-1.0575e+01, -1.7241e+01,  9.1858e-01, -4.8144e-01,  3.8818e+00,\n",
      "         -4.0036e+00, -9.5980e+00, -1.6273e+00,  2.3989e+00, -1.3492e+00],\n",
      "        [-1.1798e+01, -1.1191e+01,  5.1350e+00, -7.8748e-02,  9.7112e-01,\n",
      "          9.5475e+00, -7.9499e+00, -1.2395e+00,  3.7625e+00,  1.5068e-01],\n",
      "        [-9.6744e+00, -7.2904e+00,  4.9541e-01,  5.0417e-01,  9.7680e+00,\n",
      "          5.9449e+00, -1.5707e+01, -8.4323e+00, -5.1701e+00, -1.4812e+00],\n",
      "        [-1.2803e+01, -1.1334e+01,  9.7776e+00, -3.5955e+00,  6.9981e+00,\n",
      "          1.0030e+01, -3.5696e+00,  1.9933e+00,  4.0594e+00, -3.2005e+00],\n",
      "        [-1.1663e+01, -9.8319e+00,  1.1587e+01,  7.6872e+00, -6.4750e+00,\n",
      "          1.1548e+01, -6.0112e+00,  1.3173e+00,  5.8801e+00, -1.1483e+00],\n",
      "        [-1.3896e+01, -4.9322e+00,  5.3680e+00,  7.6490e+00,  3.8043e+00,\n",
      "          2.9390e+00, -3.5629e+00,  2.1131e+00,  8.3581e-01,  5.8192e+00],\n",
      "        [-2.2114e+01, -1.3734e+01,  1.7244e+01, -1.1400e-01,  6.0107e-01,\n",
      "          2.0588e+00, -1.1197e+01,  5.1567e+00, -1.5938e+00,  3.6583e+00],\n",
      "        [-1.4842e+01,  1.1135e+00,  9.2466e-01,  1.2574e+00, -6.2545e-01,\n",
      "          1.4269e+01, -7.9354e+00, -4.0142e+00, -7.4779e-01,  3.7563e+00],\n",
      "        [-8.5681e+00,  1.9791e+00,  5.8636e+00,  7.5510e-01, -7.7496e+00,\n",
      "          2.3408e-01, -3.9975e+00,  5.7981e+00,  3.8845e+00,  4.3677e+00],\n",
      "        [-8.7626e+00, -8.3699e+00,  4.4266e+00,  1.0392e+01,  4.1746e+00,\n",
      "          9.6595e-01, -9.8959e+00, -3.0708e+00,  3.3479e+00,  3.3916e+00],\n",
      "        [-8.8670e+00, -2.6746e+00,  9.7092e+00, -1.6455e+00, -3.0616e+00,\n",
      "          6.8708e+00, -7.5932e-01, -1.8445e+00, -8.7381e+00, -2.8529e+00],\n",
      "        [-1.4328e+01, -1.2340e+01,  6.7456e+00, -1.7322e+00, -3.7674e+00,\n",
      "          1.2557e+01, -6.7372e+00,  2.2005e+00, -9.2584e-01,  4.4602e+00],\n",
      "        [-1.1978e+01, -1.1474e+01,  5.2852e+00, -2.6831e+00,  1.1471e+01,\n",
      "          9.6924e+00, -2.1838e+00, -8.5440e+00,  8.0323e-01, -1.5093e+00],\n",
      "        [-2.1835e+01, -2.8533e+00,  1.2823e+01, -1.5484e+00,  9.3414e+00,\n",
      "          1.0034e+01, -1.2513e+00, -3.7983e+00, -1.0452e+01, -6.0390e-01],\n",
      "        [-1.6668e+01,  7.3803e-01,  7.9074e+00,  9.0513e+00,  6.6209e+00,\n",
      "          6.0081e+00, -6.2684e+00, -7.3573e+00, -8.3049e+00, -4.5347e+00],\n",
      "        [-1.5711e+01, -9.0183e+00,  6.1434e+00, -1.6841e+00,  3.5984e+00,\n",
      "          7.5459e+00, -7.6831e-01,  3.0286e-01, -3.3647e+00, -2.1073e+00],\n",
      "        [-1.8570e+01, -4.6438e+00,  8.7716e-01,  3.5664e+00,  7.4681e+00,\n",
      "          7.9098e+00, -1.2724e+01, -2.0605e+00,  3.9516e+00, -3.1692e-01],\n",
      "        [-2.0382e+01, -5.0634e+00,  1.2084e+01,  1.4230e+01,  3.1076e+00,\n",
      "          1.1434e+01, -5.3239e+00, -6.0304e+00,  5.2487e+00, -7.2120e+00],\n",
      "        [-1.3443e+01, -1.6004e+01,  2.7967e+00,  3.7851e+00, -1.2369e+00,\n",
      "          1.4423e+01, -1.5312e+01, -4.4334e+00, -5.4572e+00, -1.0018e+00],\n",
      "        [-1.2765e+01, -1.2886e+01,  3.9031e+00,  2.6142e+00, -1.0821e+00,\n",
      "          1.1115e+01, -4.4705e+00, -1.9673e+00,  2.2814e+00, -2.3744e+00],\n",
      "        [-1.7094e+01, -1.1700e+01,  7.0762e+00, -5.8560e+00, -1.9361e+00,\n",
      "          8.5285e+00,  3.0848e-01, -5.8916e+00, -8.3481e+00, -5.5083e-01],\n",
      "        [-1.9144e+01, -8.0844e+00,  1.4210e+01,  8.3169e+00,  5.4300e+00,\n",
      "          5.2830e+00, -1.2406e+01, -1.0107e+01,  2.1551e+00,  2.5048e+00],\n",
      "        [ 2.0748e+00, -5.3223e+00,  2.3791e+00, -1.8347e+00, -9.7870e+00,\n",
      "          9.7630e+00, -1.7044e+00,  8.8304e+00,  3.9955e+00,  4.0523e+00],\n",
      "        [-1.1250e+01, -8.9549e+00,  8.7020e+00,  9.5012e-01,  2.8475e+00,\n",
      "          1.3117e+01, -7.5886e+00, -1.9442e+00, -9.5833e-01,  1.3613e+00],\n",
      "        [-1.9172e+01, -5.1220e+00,  9.8127e+00, -2.8616e+00,  7.4611e+00,\n",
      "          5.1938e+00, -1.8488e+01, -4.9022e-01, -4.5081e+00, -1.5968e-01],\n",
      "        [-1.5230e+01, -1.7205e+00,  1.1005e+01,  1.4779e+01, -2.2855e+00,\n",
      "          6.8406e+00, -2.0145e+01,  7.2722e-01,  1.7954e+00, -2.0914e-01],\n",
      "        [-1.3787e+01, -6.9645e+00,  4.0105e+00,  4.6394e+00, -9.8401e+00,\n",
      "          1.2715e+01, -7.8727e+00, -8.5232e-02, -7.0745e+00,  5.6932e+00],\n",
      "        [-1.8165e+01, -8.6959e+00, -4.0126e+00,  1.0562e+00, -1.0650e+01,\n",
      "          1.4462e+01, -6.3201e-01, -4.6124e+00,  2.8892e+00,  5.6667e-01],\n",
      "        [-1.5502e+01, -1.0842e+01,  9.4682e+00,  3.3034e+00, -1.3881e+00,\n",
      "          1.2227e+01, -5.9610e+00, -4.5494e+00, -4.8414e+00, -3.7395e+00],\n",
      "        [-8.9144e+00, -1.7843e+01,  7.4553e+00,  5.2512e+00,  1.2202e+01,\n",
      "          9.7760e+00, -9.5153e+00, -4.2869e+00, -5.6259e+00, -3.3374e+00],\n",
      "        [-1.8243e+01, -3.8503e+00,  9.8130e+00,  5.6880e-01,  4.8480e-01,\n",
      "         -1.2768e+00,  2.6583e+00, -3.3911e+00, -7.2168e+00, -8.5818e-01]])\n"
     ]
    }
   ],
   "source": [
    "## Your solution\n",
    "def activation(x):\n",
    "    return 1/(1+torch.exp(-x))\n",
    "\n",
    "\n",
    "images_flatten = images.view(images.shape[0], -1 )\n",
    "print(\"images flatten shape\", images_flatten.shape)\n",
    "inputs = images_flatten.shape[1]\n",
    "W1 = torch.randn(inputs, 256)\n",
    "b1 = torch.randn(256)\n",
    "\n",
    "W2 = torch.randn(256, 10)\n",
    "b2 = torch.randn(10)\n",
    "\n",
    "h = activation(torch.mm(images_flatten, W1) + b1)\n",
    "out = torch.mm(h, W2) + b2\n",
    "print(\"out shape\",out.shape)\n",
    "print(out)\n",
    "#out = # output of your network, should have shape (64,10)"
   ]
  },
  {
   "cell_type": "markdown",
   "metadata": {},
   "source": [
    "Now we have 10 outputs for our network. We want to pass in an image to our network and get out a probability distribution over the classes that tells us the likely class(es) the image belongs to. Something that looks like this:\n",
    "<img src='assets/image_distribution.png' width=500px>\n",
    "\n",
    "Here we see that the probability for each class is roughly the same. This is representing an untrained network, it hasn't seen any data yet so it just returns a uniform distribution with equal probabilities for each class.\n",
    "\n",
    "To calculate this probability distribution, we often use the [**softmax** function](https://en.wikipedia.org/wiki/Softmax_function). Mathematically this looks like\n",
    "\n",
    "$$\n",
    "\\Large \\sigma(x_i) = \\cfrac{e^{x_i}}{\\sum_k^K{e^{x_k}}}\n",
    "$$\n",
    "\n",
    "What this does is squish each input $x_i$ between 0 and 1 and normalizes the values to give you a proper probability distribution where the probabilites sum up to one.\n",
    "\n",
    "> **Exercise:** Implement a function `softmax` that performs the softmax calculation and returns probability distributions for each example in the batch. Note that you'll need to pay attention to the shapes when doing this. If you have a tensor `a` with shape `(64, 10)` and a tensor `b` with shape `(64,)`, doing `a/b` will give you an error because PyTorch will try to do the division across the columns (called broadcasting) but you'll get a size mismatch. The way to think about this is for each of the 64 examples, you only want to divide by one value, the sum in the denominator. So you need `b` to have a shape of `(64, 1)`. This way PyTorch will divide the 10 values in each row of `a` by the one value in each row of `b`. Pay attention to how you take the sum as well. You'll need to define the `dim` keyword in `torch.sum`. Setting `dim=0` takes the sum across the rows while `dim=1` takes the sum across the columns."
   ]
  },
  {
   "cell_type": "code",
   "execution_count": 40,
   "metadata": {},
   "outputs": [
    {
     "name": "stdout",
     "output_type": "stream",
     "text": [
      "torch.Size([64, 10])\n",
      "tensor([1.0000, 1.0000, 1.0000, 1.0000, 1.0000, 1.0000, 1.0000, 1.0000, 1.0000,\n",
      "        1.0000, 1.0000, 1.0000, 1.0000, 1.0000, 1.0000, 1.0000, 1.0000, 1.0000,\n",
      "        1.0000, 1.0000, 1.0000, 1.0000, 1.0000, 1.0000, 1.0000, 1.0000, 1.0000,\n",
      "        1.0000, 1.0000, 1.0000, 1.0000, 1.0000, 1.0000, 1.0000, 1.0000, 1.0000,\n",
      "        1.0000, 1.0000, 1.0000, 1.0000, 1.0000, 1.0000, 1.0000, 1.0000, 1.0000,\n",
      "        1.0000, 1.0000, 1.0000, 1.0000, 1.0000, 1.0000, 1.0000, 1.0000, 1.0000,\n",
      "        1.0000, 1.0000, 1.0000, 1.0000, 1.0000, 1.0000, 1.0000, 1.0000, 1.0000,\n",
      "        1.0000])\n"
     ]
    }
   ],
   "source": [
    "def softmax(x):\n",
    "    ## TODO: Implement the softmax function here\n",
    "    #print(torch.sum(torch.exp(x), dim = 1).view(-1, 1))\n",
    "    #print(torch.exp(x))\n",
    "    return torch.exp(x) / torch.sum(torch.exp(x), dim = 1).view(-1, 1)\n",
    "\n",
    "# Here, out should be the output of the network in the previous excercise with shape (64,10)\n",
    "probabilities = softmax(out)\n",
    "#print(probabilities)\n",
    "# Does it have the right shape? Should be (64, 10)\n",
    "print(probabilities.shape)\n",
    "# Does it sum to 1?\n",
    "print(probabilities.sum(dim=1))"
   ]
  },
  {
   "cell_type": "markdown",
   "metadata": {},
   "source": [
    "## Building networks with PyTorch\n",
    "\n",
    "PyTorch provides a module `nn` that makes building networks much simpler. Here I'll show you how to build the same one as above with 784 inputs, 256 hidden units, 10 output units and a softmax output."
   ]
  },
  {
   "cell_type": "code",
   "execution_count": 41,
   "metadata": {},
   "outputs": [],
   "source": [
    "from torch import nn"
   ]
  },
  {
   "cell_type": "code",
   "execution_count": 42,
   "metadata": {},
   "outputs": [],
   "source": [
    "class Network(nn.Module):\n",
    "    def __init__(self):\n",
    "        super().__init__()\n",
    "        \n",
    "        # Inputs to hidden layer linear transformation\n",
    "        self.hidden = nn.Linear(784, 256)\n",
    "        # Output layer, 10 units - one for each digit\n",
    "        self.output = nn.Linear(256, 10)\n",
    "        \n",
    "        # Define sigmoid activation and softmax output \n",
    "        self.sigmoid = nn.Sigmoid()\n",
    "        self.softmax = nn.Softmax(dim=1)\n",
    "        \n",
    "    def forward(self, x):\n",
    "        # Pass the input tensor through each of our operations\n",
    "        x = self.hidden(x)\n",
    "        x = self.sigmoid(x)\n",
    "        x = self.output(x)\n",
    "        x = self.softmax(x)\n",
    "        \n",
    "        return x"
   ]
  },
  {
   "cell_type": "markdown",
   "metadata": {},
   "source": [
    "Let's go through this bit by bit.\n",
    "\n",
    "```python\n",
    "class Network(nn.Module):\n",
    "```\n",
    "\n",
    "Here we're inheriting from `nn.Module`. Combined with `super().__init__()` this creates a class that tracks the architecture and provides a lot of useful methods and attributes. It is mandatory to inherit from `nn.Module` when you're creating a class for your network. The name of the class itself can be anything.\n",
    "\n",
    "```python\n",
    "self.hidden = nn.Linear(784, 256)\n",
    "```\n",
    "\n",
    "This line creates a module for a linear transformation, $x\\mathbf{W} + b$, with 784 inputs and 256 outputs and assigns it to `self.hidden`. The module automatically creates the weight and bias tensors which we'll use in the `forward` method. You can access the weight and bias tensors once the network (`net`) is created with `net.hidden.weight` and `net.hidden.bias`.\n",
    "\n",
    "```python\n",
    "self.output = nn.Linear(256, 10)\n",
    "```\n",
    "\n",
    "Similarly, this creates another linear transformation with 256 inputs and 10 outputs.\n",
    "\n",
    "```python\n",
    "self.sigmoid = nn.Sigmoid()\n",
    "self.softmax = nn.Softmax(dim=1)\n",
    "```\n",
    "\n",
    "Here I defined operations for the sigmoid activation and softmax output. Setting `dim=1` in `nn.Softmax(dim=1)` calculates softmax across the columns.\n",
    "\n",
    "```python\n",
    "def forward(self, x):\n",
    "```\n",
    "\n",
    "PyTorch networks created with `nn.Module` must have a `forward` method defined. It takes in a tensor `x` and passes it through the operations you defined in the `__init__` method.\n",
    "\n",
    "```python\n",
    "x = self.hidden(x)\n",
    "x = self.sigmoid(x)\n",
    "x = self.output(x)\n",
    "x = self.softmax(x)\n",
    "```\n",
    "\n",
    "Here the input tensor `x` is passed through each operation and reassigned to `x`. We can see that the input tensor goes through the hidden layer, then a sigmoid function, then the output layer, and finally the softmax function. It doesn't matter what you name the variables here, as long as the inputs and outputs of the operations match the network architecture you want to build. The order in which you define things in the `__init__` method doesn't matter, but you'll need to sequence the operations correctly in the `forward` method.\n",
    "\n",
    "Now we can create a `Network` object."
   ]
  },
  {
   "cell_type": "code",
   "execution_count": 43,
   "metadata": {},
   "outputs": [
    {
     "data": {
      "text/plain": [
       "Network(\n",
       "  (hidden): Linear(in_features=784, out_features=256, bias=True)\n",
       "  (output): Linear(in_features=256, out_features=10, bias=True)\n",
       "  (sigmoid): Sigmoid()\n",
       "  (softmax): Softmax()\n",
       ")"
      ]
     },
     "execution_count": 43,
     "metadata": {},
     "output_type": "execute_result"
    }
   ],
   "source": [
    "# Create the network and look at it's text representation\n",
    "model = Network()\n",
    "model"
   ]
  },
  {
   "cell_type": "markdown",
   "metadata": {},
   "source": [
    "You can define the network somewhat more concisely and clearly using the `torch.nn.functional` module. This is the most common way you'll see networks defined as many operations are simple element-wise functions. We normally import this module as `F`, `import torch.nn.functional as F`."
   ]
  },
  {
   "cell_type": "code",
   "execution_count": 44,
   "metadata": {},
   "outputs": [],
   "source": [
    "import torch.nn.functional as F\n",
    "\n",
    "class Network(nn.Module):\n",
    "    def __init__(self):\n",
    "        super().__init__()\n",
    "        # Inputs to hidden layer linear transformation\n",
    "        self.hidden = nn.Linear(784, 256)\n",
    "        # Output layer, 10 units - one for each digit\n",
    "        self.output = nn.Linear(256, 10)\n",
    "        \n",
    "    def forward(self, x):\n",
    "        # Hidden layer with sigmoid activation\n",
    "        x = F.sigmoid(self.hidden(x))\n",
    "        # Output layer with softmax activation\n",
    "        x = F.softmax(self.output(x), dim=1)\n",
    "        \n",
    "        return x"
   ]
  },
  {
   "cell_type": "markdown",
   "metadata": {},
   "source": [
    "### Activation functions\n",
    "\n",
    "So far we've only been looking at the sigmoid activation function, but in general any function can be used as an activation function. The only requirement is that for a network to approximate a non-linear function, the activation functions must be non-linear. Here are a few more examples of common activation functions: Tanh (hyperbolic tangent), and ReLU (rectified linear unit).\n",
    "\n",
    "<img src=\"assets/activation.png\" width=700px>\n",
    "\n",
    "In practice, the ReLU function is used almost exclusively as the activation function for hidden layers."
   ]
  },
  {
   "cell_type": "markdown",
   "metadata": {},
   "source": [
    "### Your Turn to Build a Network\n",
    "\n",
    "<img src=\"assets/mlp_mnist.png\" width=600px>\n",
    "\n",
    "> **Exercise:** Create a network with 784 input units, a hidden layer with 128 units and a ReLU activation, then a hidden layer with 64 units and a ReLU activation, and finally an output layer with a softmax activation as shown above. You can use a ReLU activation with the `nn.ReLU` module or `F.relu` function.\n",
    "\n",
    "It's good practice to name your layers by their type of network, for instance 'fc' to represent a fully-connected layer. As you code your solution, use `fc1`, `fc2`, and `fc3` as your layer names."
   ]
  },
  {
   "cell_type": "code",
   "execution_count": 48,
   "metadata": {
    "scrolled": true
   },
   "outputs": [
    {
     "data": {
      "text/plain": [
       "Network(\n",
       "  (fc1): Linear(in_features=784, out_features=128, bias=True)\n",
       "  (fc2): Linear(in_features=128, out_features=64, bias=True)\n",
       "  (fc3): Linear(in_features=64, out_features=10, bias=True)\n",
       ")"
      ]
     },
     "execution_count": 48,
     "metadata": {},
     "output_type": "execute_result"
    }
   ],
   "source": [
    "## Your solution here\n",
    "class Network(nn.Module):\n",
    "    def __init__(self):\n",
    "        super().__init__()\n",
    "        #first_layer\n",
    "        self.fc1 = nn.Linear(784, 128)\n",
    "        #second_layer or 1st hidden layer\n",
    "        self.fc2 = nn.Linear(128, 64)\n",
    "        #third layer or 2nd hidden layer\n",
    "        self.fc3 = nn.Linear(64, 10)\n",
    "        \n",
    "    def forward(self, x):\n",
    "        \n",
    "        x = self.fc1(x)\n",
    "        x = F.relu(x)\n",
    "        x = self.fc2(x)\n",
    "        x = F.relu(x)\n",
    "        x = self.fc3(x)\n",
    "        x = F.softmax(x, dim = 1)\n",
    "        \n",
    "        return x\n",
    "\n",
    "model = Network()\n",
    "model"
   ]
  },
  {
   "cell_type": "markdown",
   "metadata": {},
   "source": [
    "### Initializing weights and biases\n",
    "\n",
    "The weights and such are automatically initialized for you, but it's possible to customize how they are initialized. The weights and biases are tensors attached to the layer you defined, you can get them with `model.fc1.weight` for instance."
   ]
  },
  {
   "cell_type": "code",
   "execution_count": 49,
   "metadata": {},
   "outputs": [
    {
     "name": "stdout",
     "output_type": "stream",
     "text": [
      "Parameter containing:\n",
      "tensor([[-0.0272, -0.0022,  0.0133,  ..., -0.0031,  0.0036,  0.0286],\n",
      "        [ 0.0254, -0.0253, -0.0127,  ..., -0.0104, -0.0217,  0.0251],\n",
      "        [ 0.0208, -0.0340, -0.0064,  ..., -0.0036,  0.0211,  0.0080],\n",
      "        ...,\n",
      "        [-0.0307, -0.0201,  0.0014,  ...,  0.0255, -0.0226,  0.0084],\n",
      "        [ 0.0259, -0.0025, -0.0340,  ..., -0.0184,  0.0219,  0.0170],\n",
      "        [ 0.0056, -0.0004, -0.0173,  ...,  0.0258,  0.0147,  0.0187]],\n",
      "       requires_grad=True)\n",
      "Parameter containing:\n",
      "tensor([ 1.4487e-02, -1.3384e-02,  3.5554e-02, -1.3897e-02,  1.2605e-02,\n",
      "         2.1779e-02,  2.6628e-02, -1.9955e-02, -2.0986e-02,  7.8678e-03,\n",
      "         1.7150e-02, -8.8335e-03, -3.5245e-02, -5.9657e-05, -7.0836e-03,\n",
      "         9.5109e-03,  3.6930e-03,  1.2728e-02,  3.4881e-02,  2.6829e-02,\n",
      "         9.8822e-03,  1.4375e-02, -6.2395e-03,  7.2709e-03, -9.7426e-03,\n",
      "         7.4431e-03,  4.4512e-03,  1.1563e-02,  2.1554e-02,  1.4733e-02,\n",
      "         1.1018e-02, -1.5862e-03,  2.5280e-03, -1.2070e-02, -2.6058e-03,\n",
      "         2.3567e-02,  3.3160e-02,  1.8214e-02, -2.5424e-02, -2.6300e-02,\n",
      "        -1.1048e-02, -2.0364e-02, -2.3419e-02,  2.5084e-02, -3.2054e-02,\n",
      "         3.1838e-02, -2.4650e-03, -4.5652e-03,  1.3650e-02, -4.7809e-03,\n",
      "        -8.0946e-03,  1.7956e-02, -3.6470e-03, -1.3043e-02, -7.6530e-03,\n",
      "        -2.1123e-03, -2.8522e-02, -1.1571e-02, -3.1140e-02,  2.3305e-02,\n",
      "         1.6212e-02, -3.1574e-02, -3.2511e-02,  1.2945e-02,  2.0216e-02,\n",
      "        -1.5422e-02,  8.0170e-03,  1.5843e-02, -2.8044e-02, -2.6213e-02,\n",
      "        -3.2994e-02,  7.4651e-03,  2.5946e-02,  1.5683e-02,  3.2883e-02,\n",
      "         2.1421e-02, -2.7044e-02,  3.2574e-02, -1.2549e-02,  1.7278e-02,\n",
      "        -2.3047e-02,  9.4409e-03, -3.0640e-02,  2.0872e-02, -2.8762e-02,\n",
      "        -4.0391e-03,  3.1233e-02, -2.7241e-02,  2.8244e-02, -1.8679e-02,\n",
      "        -2.2443e-02, -2.9341e-02, -1.7239e-02,  4.9615e-03, -1.1396e-02,\n",
      "        -2.3370e-02,  2.9227e-03,  2.4392e-02, -3.4663e-02, -2.3789e-02,\n",
      "        -1.4428e-02, -1.7838e-02,  5.3705e-03, -2.7940e-02,  3.0978e-02,\n",
      "        -3.3513e-02,  3.1597e-02,  1.6786e-03,  2.2532e-02, -1.2739e-02,\n",
      "         8.7926e-04,  3.0811e-02, -2.9809e-02,  1.7335e-02,  8.4055e-04,\n",
      "         3.2597e-02,  1.7193e-02, -2.2569e-02, -9.1382e-03, -1.6929e-02,\n",
      "         1.1563e-02, -1.2232e-02, -1.9997e-02, -3.2696e-02,  1.2547e-02,\n",
      "        -3.4572e-02,  2.6425e-02, -2.8907e-02], requires_grad=True)\n"
     ]
    }
   ],
   "source": [
    "print(model.fc1.weight)\n",
    "print(model.fc1.bias)"
   ]
  },
  {
   "cell_type": "markdown",
   "metadata": {},
   "source": [
    "For custom initialization, we want to modify these tensors in place. These are actually autograd *Variables*, so we need to get back the actual tensors with `model.fc1.weight.data`. Once we have the tensors, we can fill them with zeros (for biases) or random normal values."
   ]
  },
  {
   "cell_type": "code",
   "execution_count": 50,
   "metadata": {},
   "outputs": [
    {
     "data": {
      "text/plain": [
       "tensor([0., 0., 0., 0., 0., 0., 0., 0., 0., 0., 0., 0., 0., 0., 0., 0., 0., 0., 0., 0., 0., 0., 0., 0.,\n",
       "        0., 0., 0., 0., 0., 0., 0., 0., 0., 0., 0., 0., 0., 0., 0., 0., 0., 0., 0., 0., 0., 0., 0., 0.,\n",
       "        0., 0., 0., 0., 0., 0., 0., 0., 0., 0., 0., 0., 0., 0., 0., 0., 0., 0., 0., 0., 0., 0., 0., 0.,\n",
       "        0., 0., 0., 0., 0., 0., 0., 0., 0., 0., 0., 0., 0., 0., 0., 0., 0., 0., 0., 0., 0., 0., 0., 0.,\n",
       "        0., 0., 0., 0., 0., 0., 0., 0., 0., 0., 0., 0., 0., 0., 0., 0., 0., 0., 0., 0., 0., 0., 0., 0.,\n",
       "        0., 0., 0., 0., 0., 0., 0., 0.])"
      ]
     },
     "execution_count": 50,
     "metadata": {},
     "output_type": "execute_result"
    }
   ],
   "source": [
    "# Set biases to all zeros\n",
    "model.fc1.bias.data.fill_(0)"
   ]
  },
  {
   "cell_type": "code",
   "execution_count": 51,
   "metadata": {},
   "outputs": [
    {
     "data": {
      "text/plain": [
       "tensor([[ 0.0045, -0.0095,  0.0097,  ..., -0.0112,  0.0006,  0.0153],\n",
       "        [-0.0025, -0.0019,  0.0050,  ...,  0.0081,  0.0012, -0.0006],\n",
       "        [-0.0104, -0.0022, -0.0045,  ...,  0.0068, -0.0123,  0.0111],\n",
       "        ...,\n",
       "        [-0.0054, -0.0121,  0.0172,  ...,  0.0147, -0.0061, -0.0069],\n",
       "        [ 0.0083, -0.0056, -0.0220,  ...,  0.0009, -0.0104,  0.0131],\n",
       "        [-0.0006, -0.0040,  0.0070,  ..., -0.0152,  0.0033, -0.0068]])"
      ]
     },
     "execution_count": 51,
     "metadata": {},
     "output_type": "execute_result"
    }
   ],
   "source": [
    "# sample from random normal with standard dev = 0.01\n",
    "model.fc1.weight.data.normal_(std=0.01)"
   ]
  },
  {
   "cell_type": "markdown",
   "metadata": {},
   "source": [
    "### Forward pass\n",
    "\n",
    "Now that we have a network, let's see what happens when we pass in an image."
   ]
  },
  {
   "cell_type": "code",
   "execution_count": 52,
   "metadata": {},
   "outputs": [
    {
     "data": {
      "image/png": "[encoded data removed]",
      "text/plain": [
       "<Figure size 432x648 with 2 Axes>"
      ]
     },
     "metadata": {
      "image/png": {
       "height": 226,
       "width": 423
      },
      "needs_background": "light"
     },
     "output_type": "display_data"
    }
   ],
   "source": [
    "# Grab some data \n",
    "dataiter = iter(trainloader)\n",
    "images, labels = dataiter.next()\n",
    "\n",
    "# Resize images into a 1D vector, new shape is (batch size, color channels, image pixels) \n",
    "images.resize_(64, 1, 784)\n",
    "# or images.resize_(images.shape[0], 1, 784) to automatically get batch size\n",
    "\n",
    "# Forward pass through the network\n",
    "img_idx = 0\n",
    "ps = model.forward(images[img_idx,:])\n",
    "\n",
    "img = images[img_idx]\n",
    "helper.view_classify(img.view(1, 28, 28), ps)"
   ]
  },
  {
   "cell_type": "markdown",
   "metadata": {},
   "source": [
    "As you can see above, our network has basically no idea what this digit is. It's because we haven't trained it yet, all the weights are random!\n",
    "\n",
    "### Using `nn.Sequential`\n",
    "\n",
    "PyTorch provides a convenient way to build networks like this where a tensor is passed sequentially through operations, `nn.Sequential` ([documentation](https://pytorch.org/docs/master/nn.html#torch.nn.Sequential)). Using this to build the equivalent network:"
   ]
  },
  {
   "cell_type": "code",
   "execution_count": 53,
   "metadata": {},
   "outputs": [
    {
     "name": "stdout",
     "output_type": "stream",
     "text": [
      "Sequential(\n",
      "  (0): Linear(in_features=784, out_features=128, bias=True)\n",
      "  (1): ReLU()\n",
      "  (2): Linear(in_features=128, out_features=64, bias=True)\n",
      "  (3): ReLU()\n",
      "  (4): Linear(in_features=64, out_features=10, bias=True)\n",
      "  (5): Softmax()\n",
      ")\n"
     ]
    },
    {
     "data": {
      "image/png": "[encoded data removed]",
      "text/plain": [
       "<Figure size 432x648 with 2 Axes>"
      ]
     },
     "metadata": {
      "image/png": {
       "height": 226,
       "width": 423
      },
      "needs_background": "light"
     },
     "output_type": "display_data"
    }
   ],
   "source": [
    "# Hyperparameters for our network\n",
    "input_size = 784\n",
    "hidden_sizes = [128, 64]\n",
    "output_size = 10\n",
    "\n",
    "# Build a feed-forward network\n",
    "model = nn.Sequential(nn.Linear(input_size, hidden_sizes[0]),\n",
    "                      nn.ReLU(),\n",
    "                      nn.Linear(hidden_sizes[0], hidden_sizes[1]),\n",
    "                      nn.ReLU(),\n",
    "                      nn.Linear(hidden_sizes[1], output_size),\n",
    "                      nn.Softmax(dim=1))\n",
    "print(model)\n",
    "\n",
    "# Forward pass through the network and display output\n",
    "images, labels = next(iter(trainloader))\n",
    "images.resize_(images.shape[0], 1, 784)\n",
    "ps = model.forward(images[0,:])\n",
    "helper.view_classify(images[0].view(1, 28, 28), ps)"
   ]
  },
  {
   "cell_type": "markdown",
   "metadata": {},
   "source": [
    "Here our model is the same as before: 784 input units, a hidden layer with 128 units, ReLU activation, 64 unit hidden layer, another ReLU, then the output layer with 10 units, and the softmax output.\n",
    "\n",
    "The operations are available by passing in the appropriate index. For example, if you want to get first Linear operation and look at the weights, you'd use `model[0]`."
   ]
  },
  {
   "cell_type": "code",
   "execution_count": 54,
   "metadata": {},
   "outputs": [
    {
     "name": "stdout",
     "output_type": "stream",
     "text": [
      "Linear(in_features=784, out_features=128, bias=True)\n"
     ]
    },
    {
     "data": {
      "text/plain": [
       "Parameter containing:\n",
       "tensor([[-0.0217,  0.0282, -0.0136,  ..., -0.0286,  0.0348,  0.0016],\n",
       "        [ 0.0137,  0.0263,  0.0322,  ..., -0.0101, -0.0075, -0.0129],\n",
       "        [ 0.0049,  0.0213, -0.0039,  ..., -0.0144, -0.0022, -0.0226],\n",
       "        ...,\n",
       "        [-0.0350,  0.0247, -0.0205,  ..., -0.0050,  0.0296, -0.0272],\n",
       "        [ 0.0200, -0.0086, -0.0213,  ..., -0.0326, -0.0021, -0.0205],\n",
       "        [ 0.0028,  0.0197,  0.0346,  ...,  0.0026,  0.0207, -0.0012]],\n",
       "       requires_grad=True)"
      ]
     },
     "execution_count": 54,
     "metadata": {},
     "output_type": "execute_result"
    }
   ],
   "source": [
    "print(model[0])\n",
    "model[0].weight"
   ]
  },
  {
   "cell_type": "markdown",
   "metadata": {},
   "source": [
    "You can also pass in an `OrderedDict` to name the individual layers and operations, instead of using incremental integers. Note that dictionary keys must be unique, so _each operation must have a different name_."
   ]
  },
  {
   "cell_type": "code",
   "execution_count": 55,
   "metadata": {},
   "outputs": [
    {
     "data": {
      "text/plain": [
       "Sequential(\n",
       "  (fc1): Linear(in_features=784, out_features=128, bias=True)\n",
       "  (relu1): ReLU()\n",
       "  (fc2): Linear(in_features=128, out_features=64, bias=True)\n",
       "  (relu2): ReLU()\n",
       "  (output): Linear(in_features=64, out_features=10, bias=True)\n",
       "  (softmax): Softmax()\n",
       ")"
      ]
     },
     "execution_count": 55,
     "metadata": {},
     "output_type": "execute_result"
    }
   ],
   "source": [
    "from collections import OrderedDict\n",
    "model = nn.Sequential(OrderedDict([\n",
    "                      ('fc1', nn.Linear(input_size, hidden_sizes[0])),\n",
    "                      ('relu1', nn.ReLU()),\n",
    "                      ('fc2', nn.Linear(hidden_sizes[0], hidden_sizes[1])),\n",
    "                      ('relu2', nn.ReLU()),\n",
    "                      ('output', nn.Linear(hidden_sizes[1], output_size)),\n",
    "                      ('softmax', nn.Softmax(dim=1))]))\n",
    "model"
   ]
  },
  {
   "cell_type": "markdown",
   "metadata": {},
   "source": [
    "Now you can access layers either by integer or the name"
   ]
  },
  {
   "cell_type": "code",
   "execution_count": 56,
   "metadata": {},
   "outputs": [
    {
     "name": "stdout",
     "output_type": "stream",
     "text": [
      "Linear(in_features=784, out_features=128, bias=True)\n",
      "Linear(in_features=784, out_features=128, bias=True)\n"
     ]
    }
   ],
   "source": [
    "print(model[0])\n",
    "print(model.fc1)"
   ]
  },
  {
   "cell_type": "markdown",
   "metadata": {},
   "source": [
    "In the next notebook, we'll see how we can train a neural network to accuractly predict the numbers appearing in the MNIST images."
   ]
  },
  {
   "cell_type": "code",
   "execution_count": null,
   "metadata": {},
   "outputs": [],
   "source": []
  }
 ],
 "metadata": {
  "kernelspec": {
   "display_name": "Python 3",
   "language": "python",
   "name": "python3"
  },
  "language_info": {
   "codemirror_mode": {
    "name": "ipython",
    "version": 3
   },
   "file_extension": ".py",
   "mimetype": "text/x-python",
   "name": "python",
   "nbconvert_exporter": "python",
   "pygments_lexer": "ipython3",
   "version": "3.7.1"
  }
 },
 "nbformat": 4,
 "nbformat_minor": 2
}
